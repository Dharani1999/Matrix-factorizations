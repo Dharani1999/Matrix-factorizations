{
  "nbformat": 4,
  "nbformat_minor": 0,
  "metadata": {
    "colab": {
      "name": "LU_decomposition.ipynb",
      "provenance": [],
      "collapsed_sections": [],
      "authorship_tag": "ABX9TyMUCVeG146GTs6FfQYbixRQ",
      "include_colab_link": true
    },
    "kernelspec": {
      "display_name": "Python 3",
      "name": "python3"
    }
  },
  "cells": [
    {
      "cell_type": "markdown",
      "metadata": {
        "id": "view-in-github",
        "colab_type": "text"
      },
      "source": [
        "<a href=\"https://colab.research.google.com/github/Dharani1999/Matrix-factorizations/blob/main/LU_decomposition.ipynb\" target=\"_parent\"><img src=\"https://colab.research.google.com/assets/colab-badge.svg\" alt=\"Open In Colab\"/></a>"
      ]
    },
    {
      "cell_type": "code",
      "metadata": {
        "id": "QnAHNXdpD8VR"
      },
      "source": [
        "# Some frequently used functions for matrix calculations\n",
        " \n",
        "def zeros(p,x,y):\n",
        "  for i in range(x):\n",
        "    a=[]\n",
        "    for j in range(y):\n",
        "      a.append(0)\n",
        "    p.append(a)\n",
        "# fills all elements of the matrix with 0\n",
        " \n",
        "def identity(p,x,y):\n",
        "  for i in range(x):\n",
        "    a=[]\n",
        "    for j in range(y):\n",
        "      if i==j:\n",
        "        a.append(1)\n",
        "      else:\n",
        "        a.append(0)\n",
        "    p.append(list(a))\n",
        "# gives an identity matrix\n",
        " \n",
        "def mat_mul(a,b,x,y,z):\n",
        "  c=[]\n",
        "  zeros(c,x,z)\n",
        "  for i in range(x):\n",
        "    for j in range(z):\n",
        "      for p in range(y):\n",
        "        c[i][j] = c[i][j] + a[i][p]*b[p][j]\n",
        "  return c  \n",
        "# multiples a (x,y) and b (y,z) and stores in c (x,z)"
      ],
      "execution_count": null,
      "outputs": []
    },
    {
      "cell_type": "code",
      "metadata": {
        "id": "AepWaDh-VIj4"
      },
      "source": [
        "# LU_decomposition for a matrix A of shape (n,r)\n",
        "\n",
        "def gen_LU(A,n,r):\n",
        "  k=0\n",
        "  I=[]\n",
        "  identity(I,n,n)\n",
        "  L=[]\n",
        "  identity(L,n,min(n,r))\n",
        "  U=[]\n",
        "  zeros(U,min(n,r),r)\n",
        "  while k<min(n-1,r) and A[k][k]!=0 :\n",
        "    T = []\n",
        "    for i in range(n):\n",
        "      if i <= k:\n",
        "        T.append(0)\n",
        "      else :\n",
        "        T.append(A[i][k]/A[k][k])\n",
        "    # Gauss vector\n",
        "\n",
        "    e = []\n",
        "    for i in range(n):\n",
        "      if i==k:\n",
        "        e.append(1)\n",
        "      else:\n",
        "        e.append(0)\n",
        "\n",
        "    M = []\n",
        "    zeros(M,n,n)\n",
        "    for i in range(n):\n",
        "      for j in range(n):\n",
        "        M[i][j] = I[i][j]-T[i]*e[j]\n",
        "    # Gauss transformation matrix\n",
        "  \n",
        "    for i in range(n):\n",
        "      for j in range(min(n,r)):\n",
        "        L[i][j] = L[i][j]+T[i]*e[j]\n",
        "    # Updating L with each transformation\n",
        "\n",
        "    B = []\n",
        "    #zeros(B,n,r)\n",
        "    B = mat_mul(M,A,n,n,r)\n",
        "    A=B\n",
        "    # A is overwritten with the transformed matrix \n",
        "    k+=1\n",
        "  \n",
        "  if k==min(n-1,r):\n",
        "    U=A[0:k]\n",
        "    return L,U\n",
        "  else:\n",
        "    print(\"The given matrix A is not LU decomposable\")\n",
        "    return L,A\n",
        "    # Leading principle sub-matrix is non singular"
      ],
      "execution_count": null,
      "outputs": []
    },
    {
      "cell_type": "code",
      "metadata": {
        "id": "7PjaKQ34Xs93"
      },
      "source": [
        "# LU decomposition using pivoting by outer product update method\n",
        "# partial >> pivot = 1,\n",
        "# complete >> pivot = 2,\n",
        "# rook >> pivot = 3\n",
        "\n",
        "def out_pivot_LU(A,n,r,pivot):\n",
        "  k=0\n",
        "  while k<min(n-1,r) and A[k][k]!=0 :\n",
        "    max = 0\n",
        "    # partial pivoting \n",
        "    if pivot==1 :\n",
        "      piv = k\n",
        "      for i in range(k,n):\n",
        "        if abs(A[i][k])>max:\n",
        "          max = abs(A[i][k])\n",
        "          piv = i\n",
        "          # finding the piv(k) with max element in sub column A[k:n][k]\n",
        "      if piv!=k :\n",
        "        temp=0\n",
        "        for j in range(r):\n",
        "          temp = A[k][j]\n",
        "          A[k][j] = A[piv][j]\n",
        "          A[piv][j] = temp\n",
        "          # swapping kth row and piv(k)th row\n",
        "    elif pivot==2 :\n",
        "      # complete pivoting\n",
        "      r_piv = k\n",
        "      c_piv = k\n",
        "      for i in range(k,n):\n",
        "        for j in range(k,r):\n",
        "          if abs(A[i][j])>max:\n",
        "            max = abs(A[i][j])\n",
        "            r_piv = i\n",
        "            c_piv = j\n",
        "            # finding row_piv and col_piv with max element \n",
        "            # in sub matrix A[k:n][k:n]\n",
        "        if r_piv!=k:\n",
        "          temp=0\n",
        "          for j in range(r):\n",
        "            temp = A[k][j]\n",
        "            A[k][j] = A[r_piv][j]\n",
        "            A[r_piv][j] = temp\n",
        "            # swapping kth row and row_piv(k)th row\n",
        "        if c_piv!=k:\n",
        "          temp=0\n",
        "          for i in range(n):\n",
        "            temp = A[i][k]\n",
        "            A[i][k] = A[i][c_piv]\n",
        "            A[i][c_piv] = temp\n",
        "            # swapping kth col and col_piv(k)th col\n",
        "    elif pivot==3 :\n",
        "      # rook pivoting\n",
        "      r_piv = k\n",
        "      c_piv = k\n",
        "      # row_piv and col_piv\n",
        "      row=k\n",
        "      col=k\n",
        "      # position of max element in the kth col and kth row\n",
        "      s = 0\n",
        "      T = A[r_piv][c_piv]\n",
        "      max_r = 0\n",
        "      max_c = 0\n",
        "      for i in range(k,n):\n",
        "        if abs(A[i][k])>max_c :\n",
        "          max_c = abs(A[i][k])\n",
        "          row = i\n",
        "          # finding the position and max element in kth sub column A[k:n][k]\n",
        "      for j in range(k,r):\n",
        "        if abs(A[k][j])>max_r :\n",
        "          max_r = abs(A[k][j])\n",
        "          col = j\n",
        "          # finding the position and max element in kth sub row A[k][k:n]\n",
        "      while T < max_c or T < max_r :\n",
        "        if s%2 == 0 :\n",
        "          r_piv = row\n",
        "          c_piv = k\n",
        "          T = abs(A[r_piv][c_piv])\n",
        "        else:\n",
        "          c_piv = col\n",
        "          r_piv = k\n",
        "          T = abs(A[r_piv][c_piv])\n",
        "        s+=1\n",
        "      if r_piv!=k:\n",
        "        temp=0\n",
        "        for j in range(r):\n",
        "          temp = A[k][j]\n",
        "          A[k][j] = A[r_piv][j]\n",
        "          A[r_piv][j] = temp\n",
        "          # swapping the kth row and row_piv(k)th row\n",
        "      if c_piv!=k:\n",
        "        temp=0\n",
        "        for i in range(n):\n",
        "          temp = A[i][k]\n",
        "          A[i][k] = A[i][c_piv]\n",
        "          A[i][c_piv] = temp\n",
        "          # swapping kth col and col_piv(k)th col\n",
        "    for j in range(k+1,n):\n",
        "      A[j][k] = A[j][k]/A[k][k]\n",
        "      # over writing A[k+1:n][k] with L[k+1:n][k]\n",
        "      for i in range(k+1,r):\n",
        "        A[j][i] = A[j][i] - A[j][k]*A[k][i]\n",
        "        # updating outer product and over writing A[k][k+1:r] with U[k][k+1:r]\n",
        "    k+=1\n",
        "  \n",
        "  L=[]\n",
        "  U=[]\n",
        "  zeros(U,min(n,r),r)\n",
        "  identity(L,n,min(n,r))\n",
        "\n",
        "  if k==min(n-1,r) :\n",
        "    for i in range(n):\n",
        "      for j in range(r):\n",
        "        if i > j:\n",
        "          L[i][j] = A[i][j]\n",
        "        else:\n",
        "          U[i][j] = A[i][j]\n",
        "    return L,U\n",
        "  else:\n",
        "    print(\"The given matrix A is not LU decomposable\")\n",
        "    return L,U\n",
        "    # Leading principle sub-matrix is non singular"
      ],
      "execution_count": null,
      "outputs": []
    },
    {
      "cell_type": "code",
      "metadata": {
        "id": "Xhktq2q_2F9A"
      },
      "source": [
        "#A = [[1, 4, 7],[2, 5, 8],[3, 6, 10]]\n",
        "#A = [[2,1,3],[4,2,2],[3,2,1]]\n",
        "#A = [[1,2],[3,4],[5,6],[3,5]]\n",
        "#A=[[1,2],[1,2],[3,4]]\n",
        "#A = [[1,2,3],[4,5,6]]\n",
        "#A = [[1,2,3,4,5,6],[7,3,4,5,2,8],[6,8,3,9,7,2],[4,6,8,2,4,7],[5,8,9,3,2,4],[6,7,3,5,1,4]]\n",
        "#A = [[3,17,10],[2,4,-2],[6,18,-12]]\n",
        "#A = [[24,36,13,61],[42,67,72,50],[38,11,36,43],[52,37,48,16]]\n",
        "#A = [[0.0001,1],[1,1]]\n",
        "A=[[1,2,3],[4,5,6],[7,8,3],[4,3,5],[2,6,7]]\n",
        "#A=[[1,2,3,4,5],[4,3,5,1,3],[5,1,4,3,2]]\n",
        "n = len(A)\n",
        "r = len(A[0])"
      ],
      "execution_count": null,
      "outputs": []
    },
    {
      "cell_type": "code",
      "metadata": {
        "id": "tt1aTF_beKAh"
      },
      "source": [
        "a,b=gen_LU(A,5,3)"
      ],
      "execution_count": null,
      "outputs": []
    },
    {
      "cell_type": "code",
      "metadata": {
        "id": "wgP9BJrXeS90"
      },
      "source": [
        "c,d = out_pivot_LU(A,5,3,pivot=0)"
      ],
      "execution_count": null,
      "outputs": []
    },
    {
      "cell_type": "code",
      "metadata": {
        "id": "0Fb0ccZSPRvc"
      },
      "source": [
        "import math\n",
        "def cholesky(A,n):\n",
        "  G=[]\n",
        "  zeros(G,n,n)\n",
        "  for j in range(n):\n",
        "    if j>0 :\n",
        "      for i in range(j,n):\n",
        "        for p in range(j):\n",
        "          A[i][j] = A[i][j] - A[i][p]*A[j][p]\n",
        "    a = A[j][j]\n",
        "    if a>0 :\n",
        "      a = math.sqrt(a)\n",
        "      for i in range(j,n):\n",
        "        A[i][j] = A[i][j]/a\n",
        "    else:\n",
        "      print(\"the given matrix A is not positive definite\")\n",
        "      return G\n",
        "\n",
        "  for i in range(n):\n",
        "    for j in range(n):\n",
        "      if i >= j:\n",
        "        G[i][j] = A[i][j]\n",
        "  return G"
      ],
      "execution_count": null,
      "outputs": []
    },
    {
      "cell_type": "code",
      "metadata": {
        "id": "yXa1PzJthXIn"
      },
      "source": [
        "#A = [[1,1,1,1],[1,2,3,4],[1,3,6,10],[1,4,10,20]]\n",
        "A = [[1,1/2,1/3,1/4],[1/2,1/3,1/4,1/5],[1/3,1/4,1/5,1/6],[1/4,1/5,1/6,1/7]]\n",
        "n = len(A)"
      ],
      "execution_count": null,
      "outputs": []
    },
    {
      "cell_type": "code",
      "metadata": {
        "id": "-W1S2KArSrfG"
      },
      "source": [
        "g = cholesky(A,n)"
      ],
      "execution_count": null,
      "outputs": []
    },
    {
      "cell_type": "code",
      "metadata": {
        "id": "hMB4e2vQSvGs",
        "outputId": "c74dbfa1-4d46-44d7-fb81-71b1c376731d",
        "colab": {
          "base_uri": "https://localhost:8080/",
          "height": 90
        }
      },
      "source": [
        "g"
      ],
      "execution_count": null,
      "outputs": [
        {
          "output_type": "execute_result",
          "data": {
            "text/plain": [
              "[[1.0, 0, 0, 0],\n",
              " [0.5, 0.2886751345948128, 0, 0],\n",
              " [0.3333333333333333, 0.2886751345948129, 0.07453559924999295, 0],\n",
              " [0.25, 0.2598076211353316, 0.11180339887498915, 0.01889822365046267]]"
            ]
          },
          "metadata": {
            "tags": []
          },
          "execution_count": 10
        }
      ]
    },
    {
      "cell_type": "code",
      "metadata": {
        "id": "L27ZVykn8ItC"
      },
      "source": [
        "# LU decomposition using Recursive block matrix technique\n",
        "\n",
        "def block_LU(A,n,r):\n",
        "  L=[]\n",
        "  zeros(L,n,n)\n",
        "  U=[]\n",
        "  zeros(U,n,n)\n",
        "  if n <= r :\n",
        "    L,U = out_pivot_LU(A,n,n,pivot=0)\n",
        "    return L,U\n",
        "  else:\n",
        "    A11=[]\n",
        "    zeros(A11,r,r)\n",
        "    A12=[]\n",
        "    zeros(A12,r,n-r)\n",
        "    A21=[]\n",
        "    zeros(A21,n-r,r)\n",
        "    A22=[]\n",
        "    zeros(A22,n-r,n-r)\n",
        "\n",
        "    B = []\n",
        "    zeros(B,n,r)\n",
        "\n",
        "    for i in range(r):\n",
        "      A11[i] = A[i][0:r]\n",
        "      A12[i] = A[i][r:n]\n",
        "      B[i] = A11[i]\n",
        "    for i in range(n-r):\n",
        "      A21[i] = A[i+r][0:r]\n",
        "      A22[i] = A[i+r][r:n]\n",
        "      B[i+r] = A21[i]\n",
        "\n",
        "    L11=[]\n",
        "    identity(L11,r,r)\n",
        "    L21=[]\n",
        "    zeros(L21,n-r,r)\n",
        "    # L1 = [L11,L21]T --> n*r\n",
        "    L1=[]\n",
        "    identity(L1,n,r)\n",
        "    L22=[]\n",
        "    identity(L22,n-r,n-r)\n",
        "    U11=[]\n",
        "    zeros(U11,r,r)\n",
        "    U12=[]\n",
        "    zeros(U12,r,n-r)\n",
        "    U22=[]\n",
        "\n",
        "    L1,U11 = out_pivot_LU(B,n,r,pivot=0)\n",
        "    L11 = L1[0:r]\n",
        "    L21 = L1[r:n]\n",
        "\n",
        "    # now let's solve for U12 from L11*U12 = A12\n",
        "    # first find LU decompostion of L11 = l*u. Then lu*U12 = A12\n",
        "    # then solve ly = A12, u*U12 = y using back substitution\n",
        "    l=[]\n",
        "    u=[]\n",
        "    l,u=out_pivot_LU(L11,r,r,pivot=0)\n",
        "    for i in range(n-r):\n",
        "      A12[0][i]= A12[0][i]/l[0][0]\n",
        "      for j in range(1,r):\n",
        "        for p in range(j):\n",
        "          A12[j][i] = A12[j][i] - A12[p][i]*l[j][p]\n",
        "        A12[j][i] = A12[j][i]/l[j][j]\n",
        "    \n",
        "    for i in range(n-r):\n",
        "      A12[r-1][i]= A12[r-1][i]/u[r-1][r-1]\n",
        "      for j in range(1,r):\n",
        "        for p in range(r-j,r):\n",
        "          A12[r-1-j][i] = A12[r-1-j][i] - A12[p][i]*u[r-1-j][p]\n",
        "        A12[r-1-j][i] = A12[r-1-j][i]/u[j][j]\n",
        "    \n",
        "    U12 = A12\n",
        "    # now we have L11,L21,In-r,U11,U12,In-r\n",
        "    c=[]\n",
        "    c=mat_mul(L21,U12,n-r,r,n-r)\n",
        "    for i in range(n-r):\n",
        "      for j in range(n-r):\n",
        "        A22[i][j] = A22[i][j] - c[i][j]\n",
        "    \n",
        "    L22,U22 = block_LU(A22,n-r,r)\n",
        "\n",
        "    for i in range(r):\n",
        "      L[i][0:r] = L11[i]\n",
        "    for i in range(r,n):\n",
        "      L[i][0:r] = L21[i-r]\n",
        "      L[i][r:n] = L22[i-r]\n",
        "    \n",
        "    for i in range(r):\n",
        "      U[i][0:r] = U11[i]\n",
        "      U[i][r:n] = U12[i]\n",
        "    for i in range(r,n):\n",
        "      U[i][r:n] = U22[i-r]\n",
        "\n",
        "    return L,U"
      ],
      "execution_count": null,
      "outputs": []
    },
    {
      "cell_type": "code",
      "metadata": {
        "id": "b3WiQRo0HZF0"
      },
      "source": [
        "def symm_LU(A,n):\n",
        "  for j in range(n):\n",
        "    v=[]\n",
        "    for i in range(j):\n",
        "      v.append(0)\n",
        "    for i in range(j):\n",
        "      v[i] = A[j][i]*A[i][i]\n",
        "    for i in range(j):\n",
        "      A[j][j] = A[j][j] - A[j][i]*v[i]\n",
        "    for p in range(j+1,n):\n",
        "      A[p][j] = A[p][j]/A[j][j]\n",
        "      for i in range(j):\n",
        "        A[p][j] = A[p][j] - A[p][i]*v[i]*(1/A[j][j])\n",
        "  print(A)\n",
        "  L=[]\n",
        "  identity(L,n,n)\n",
        "  D=[]\n",
        "  zeros(D,n,n)\n",
        "  \n",
        "  for i in range(n):\n",
        "    D[i][i] = A[i][i]\n",
        "    for j in range(n):\n",
        "      if i > j:\n",
        "        L[i][j] = A[i][j]\n",
        "  return L,D"
      ],
      "execution_count": null,
      "outputs": []
    },
    {
      "cell_type": "code",
      "metadata": {
        "id": "NkVxerD249Gw"
      },
      "source": [
        "def cholesky_pivot(A,n):\n",
        "  for k in range(n):\n",
        "    max=0\n",
        "    temp=0\n",
        "    for j in range(k,n):\n",
        "      if A[j][j]>max :\n",
        "        max = A[j][j]\n",
        "        piv = j\n",
        "    if piv!=k :\n",
        "      for i in range(n):\n",
        "        temp=A[k][i]\n",
        "        A[k][i] = A[piv][i]\n",
        "        A[piv][i] = temp\n",
        "      for i in range(n):\n",
        "        temp = A[i][k]\n",
        "        A[i][k] = A[i][piv]\n",
        "        A[i][piv] = temp\n",
        "    alpha = A[k][k]\n",
        "    \n",
        "    v=[]\n",
        "    for i in range(n-k-1):\n",
        "      v.append(0)\n",
        "    for i in range(k+1,n):\n",
        "      v[i-k-1] = A[i][k]\n",
        "    for i in range(k+1,n):\n",
        "      A[i][k] = v[i-k-1]/alpha\n",
        "    for p in range(k+1,n):\n",
        "      for j in range(k+1,n):\n",
        "        A[i][j] = A[i][j] - v[i-k-1]*v[j-k-1]*(1/alpha)\n",
        "  \n",
        "  L=[]\n",
        "  D=[]\n",
        "  identity(L,n,n)\n",
        "  zeros(D,n,n)\n",
        "\n",
        "  for i in range(n):\n",
        "    D[i][i] = A[i][i]\n",
        "    for j in range(n):\n",
        "      if i > j:\n",
        "        L[i][j] = A[i][j]\n",
        "  return L,D"
      ],
      "execution_count": null,
      "outputs": []
    },
    {
      "cell_type": "code",
      "metadata": {
        "id": "mPqXokLATn4Q"
      },
      "source": [
        "def block_cholesky(A,n,r):\n",
        "  G=[]\n",
        "  zeros(G,n,n)\n",
        "  if n<=r :\n",
        "    G=cholesky(A,n)\n",
        "    return G\n",
        "  else:\n",
        "    A11=[]\n",
        "    zeros(A11,r,r)\n",
        "    A12=[]\n",
        "    zeros(A12,r,n-r)\n",
        "    A21=[]\n",
        "    zeros(A21,n-r,r)\n",
        "    A22=[]\n",
        "    zeros(A22,n-r,n-r)\n",
        "\n",
        "    for i in range(r):\n",
        "      A11[i] = A[i][0:r]\n",
        "      A12[i] = A[i][r:n]\n",
        "    for i in range(n-r):\n",
        "      A21[i] = A[r+i][0:r]\n",
        "      A22[i] = A[r+i][r:n]\n",
        "    \n",
        "    G11=[]\n",
        "    zeros(G11,r,r)\n",
        "    G21=[]\n",
        "    zeros(G21,n-r,r)\n",
        "    G22=[]\n",
        "    zeros(G22,n-r,n-r)\n",
        "\n",
        "    G11 = cholesky(A11,r)\n",
        "    #print(G11)\n",
        "    # now we need to solve G21*G11T = A21 for G21\n",
        "    for i in range(n-r):\n",
        "      A12[0][i]= A12[0][i]/G11[0][0]\n",
        "      for j in range(1,r):\n",
        "        for p in range(j):\n",
        "          A12[j][i] = A12[j][i] - A12[p][i]*G11[j][p]\n",
        "        A12[j][i] = A12[j][i]/G11[j][j]\n",
        "    \n",
        "    for i in range(r):\n",
        "      for j in range(n-r):\n",
        "        G21[j][i] = A12[i][j]\n",
        "    #print(A12)\n",
        "    #print(G21)\n",
        "    a = []\n",
        "    a = mat_mul(G21,A12,n-r,r,n-r)\n",
        "    for i in range(n-r):\n",
        "      for j in range(n-r):\n",
        "        A22[i][j] = A22[i][j] - a[i][j]\n",
        "    #print(A22)\n",
        "    G22 = block_cholesky(A22,n-r,r)\n",
        "\n",
        "    for i in range(r):\n",
        "      G[i][0:r] = G11[i]\n",
        "    for i in range(r,n):\n",
        "      G[i][0:r] = G21[i-r]\n",
        "      G[i][r:n] = G22[i-r]\n",
        "    \n",
        "    return G"
      ],
      "execution_count": null,
      "outputs": []
    },
    {
      "cell_type": "code",
      "metadata": {
        "id": "S6tEbRcVgcOR"
      },
      "source": [
        "A = [[1,2,3,4,5,6],[7,3,4,5,2,8],[6,8,3,9,7,2],[4,6,8,2,4,7],[5,8,9,3,2,4],[6,7,3,5,1,4]]\n",
        "n = len(A)\n",
        "r = 3"
      ],
      "execution_count": null,
      "outputs": []
    },
    {
      "cell_type": "code",
      "metadata": {
        "id": "T-E8bHm_AssY",
        "outputId": "59ff5608-168a-4d58-9b02-9b4bb9619e56",
        "colab": {
          "base_uri": "https://localhost:8080/",
          "height": 127
        }
      },
      "source": [
        "A"
      ],
      "execution_count": null,
      "outputs": [
        {
          "output_type": "execute_result",
          "data": {
            "text/plain": [
              "[[1, 2, 3, 4, 5, 6],\n",
              " [7, 3, 4, 5, 2, 8],\n",
              " [6, 8, 3, 9, 7, 2],\n",
              " [4, 6, 8, 2, 4, 7],\n",
              " [5, 8, 9, 3, 2, 4],\n",
              " [6, 7, 3, 5, 1, 4]]"
            ]
          },
          "metadata": {
            "tags": []
          },
          "execution_count": 13
        }
      ]
    },
    {
      "cell_type": "code",
      "metadata": {
        "id": "gYwg3jEDgfrN"
      },
      "source": [
        "lb,ub = block_LU(A,n,r)"
      ],
      "execution_count": null,
      "outputs": []
    },
    {
      "cell_type": "code",
      "metadata": {
        "id": "mE7GySOqt3g7",
        "outputId": "f710c80d-0d84-4677-8f30-b9451e18478e",
        "colab": {
          "base_uri": "https://localhost:8080/",
          "height": 219
        }
      },
      "source": [
        "lb"
      ],
      "execution_count": null,
      "outputs": [
        {
          "output_type": "execute_result",
          "data": {
            "text/plain": [
              "[[1, 0, 0, 0, 0, 0],\n",
              " [7.0, 1.0, 0.0, 0, 0, 0],\n",
              " [6.0, 0.36363636363636365, 1.0, 0, 0, 0],\n",
              " [4.0, 0.18181818181818182, 0.10309278350515465, 1, 0, 0],\n",
              " [5.0, 0.18181818181818182, 0.32989690721649484, 1.1636568848758466, 1, 0],\n",
              " [6.0,\n",
              "  0.45454545454545453,\n",
              "  0.8247422680412372,\n",
              "  0.3363431151241535,\n",
              "  0.6371027346637099,\n",
              "  1]]"
            ]
          },
          "metadata": {
            "tags": []
          },
          "execution_count": 15
        }
      ]
    },
    {
      "cell_type": "code",
      "metadata": {
        "id": "bw29UjbaOWFe",
        "outputId": "e862eab4-7517-40b4-ef47-29457c873847",
        "colab": {
          "base_uri": "https://localhost:8080/",
          "height": 127
        }
      },
      "source": [
        "ub"
      ],
      "execution_count": null,
      "outputs": [
        {
          "output_type": "execute_result",
          "data": {
            "text/plain": [
              "[[1, 2, 3, 4.0, 5.0, 6.0],\n",
              " [0, -11.0, -17.0, -23.0, -33.0, -34.0],\n",
              " [0, 0, -8.818181818181818, -6.636363636363637, -11.0, -21.636363636363637],\n",
              " [0, 0, 0, -9.1340206185567, -8.8659793814433, -8.587628865979383],\n",
              " [0, 0, 0, 0, -3.054176072234762, -2.687358916478553],\n",
              " [0, 0, 0, 0, 0, 5.8994826311899455]]"
            ]
          },
          "metadata": {
            "tags": []
          },
          "execution_count": 16
        }
      ]
    },
    {
      "cell_type": "code",
      "metadata": {
        "id": "5SCh-JuC7-cP",
        "outputId": "93091969-8ef2-48a2-b07e-40e3a5f1ca94",
        "colab": {
          "base_uri": "https://localhost:8080/",
          "height": 35
        }
      },
      "source": [
        "#A = [[3,1],[1,3]]\n",
        "A = [[3,1,2],[1,2,5],[2,5,6]]\n",
        "n = len(A)\n",
        "n"
      ],
      "execution_count": null,
      "outputs": [
        {
          "output_type": "execute_result",
          "data": {
            "text/plain": [
              "3"
            ]
          },
          "metadata": {
            "tags": []
          },
          "execution_count": 17
        }
      ]
    },
    {
      "cell_type": "code",
      "metadata": {
        "id": "jlkcFkvk5UQU",
        "outputId": "138cee23-fc82-44bf-f2d3-bc4262b054c0",
        "colab": {
          "base_uri": "https://localhost:8080/",
          "height": 35
        }
      },
      "source": [
        "l,d = symm_LU(A,n)"
      ],
      "execution_count": null,
      "outputs": [
        {
          "output_type": "stream",
          "text": [
            "[[3, 1, 2], [0.3333333333333333, 1.6666666666666667, 5], [0.6666666666666666, 2.6, -6.600000000000002]]\n"
          ],
          "name": "stdout"
        }
      ]
    },
    {
      "cell_type": "code",
      "metadata": {
        "id": "wDwgJA-D8G-h",
        "outputId": "2cc48205-6256-417f-9f2c-b5ce1a87818d",
        "colab": {
          "base_uri": "https://localhost:8080/",
          "height": 35
        }
      },
      "source": [
        "l"
      ],
      "execution_count": null,
      "outputs": [
        {
          "output_type": "execute_result",
          "data": {
            "text/plain": [
              "[[1, 0, 0], [0.3333333333333333, 1, 0], [0.6666666666666666, 2.6, 1]]"
            ]
          },
          "metadata": {
            "tags": []
          },
          "execution_count": 21
        }
      ]
    },
    {
      "cell_type": "code",
      "metadata": {
        "id": "nM7YSFES8IPo",
        "outputId": "06722a48-4f68-4710-f1e4-f9576c946ce1",
        "colab": {
          "base_uri": "https://localhost:8080/",
          "height": 35
        }
      },
      "source": [
        "d"
      ],
      "execution_count": null,
      "outputs": [
        {
          "output_type": "execute_result",
          "data": {
            "text/plain": [
              "[[3, 0, 0], [0, 1.6666666666666667, 0], [0, 0, -6.600000000000002]]"
            ]
          },
          "metadata": {
            "tags": []
          },
          "execution_count": 22
        }
      ]
    },
    {
      "cell_type": "code",
      "metadata": {
        "id": "1P4zUq5I_xw6"
      },
      "source": [
        "A=[[6,2,1],[2,3,5],[1,5,8]]\n",
        "n=len(A)"
      ],
      "execution_count": null,
      "outputs": []
    },
    {
      "cell_type": "code",
      "metadata": {
        "id": "DeZoK9vcBIJN"
      },
      "source": [
        "l,d=cholesky_pivot(A,n)"
      ],
      "execution_count": null,
      "outputs": []
    },
    {
      "cell_type": "code",
      "metadata": {
        "id": "Pyq80WQzBLiP",
        "outputId": "d4e0f564-40be-41b6-8b11-66b962f65754",
        "colab": {
          "base_uri": "https://localhost:8080/",
          "height": 35
        }
      },
      "source": [
        "l"
      ],
      "execution_count": null,
      "outputs": [
        {
          "output_type": "execute_result",
          "data": {
            "text/plain": [
              "[[1, 0, 0], [0.125, 1, 0], [0.625, 0.34782608695652173, 1]]"
            ]
          },
          "metadata": {
            "tags": []
          },
          "execution_count": 26
        }
      ]
    },
    {
      "cell_type": "code",
      "metadata": {
        "id": "T4rR2N53BL6f",
        "outputId": "8ce353ed-59e6-44ca-f9c6-e48263549f4f",
        "colab": {
          "base_uri": "https://localhost:8080/",
          "height": 35
        }
      },
      "source": [
        "d"
      ],
      "execution_count": null,
      "outputs": [
        {
          "output_type": "execute_result",
          "data": {
            "text/plain": [
              "[[8, 0, 0], [0, 5.75, 0], [0, 0, 2.3043478260869565]]"
            ]
          },
          "metadata": {
            "tags": []
          },
          "execution_count": 27
        }
      ]
    },
    {
      "cell_type": "code",
      "metadata": {
        "id": "KoReY7mAZ6bj"
      },
      "source": [
        "#A = [[1,1,1,1],[1,2,3,4],[1,3,6,10],[1,4,10,20]]\n",
        "A = [[1,1/2,1/3,1/4],[1/2,1/3,1/4,1/5],[1/3,1/4,1/5,1/6],[1/4,1/5,1/6,1/7]]\n",
        "n=len(A)"
      ],
      "execution_count": null,
      "outputs": []
    },
    {
      "cell_type": "code",
      "metadata": {
        "id": "DnqDnm5ta_-7"
      },
      "source": [
        "g1 = block_cholesky(A,n,3)"
      ],
      "execution_count": null,
      "outputs": []
    },
    {
      "cell_type": "code",
      "metadata": {
        "id": "u6FrUckKfejN",
        "outputId": "e0fc49a5-b4c7-4d7a-c173-839847d00f24",
        "colab": {
          "base_uri": "https://localhost:8080/",
          "height": 90
        }
      },
      "source": [
        "g1"
      ],
      "execution_count": null,
      "outputs": [
        {
          "output_type": "execute_result",
          "data": {
            "text/plain": [
              "[[1.0, 0, 0, 0],\n",
              " [0.5, 0.2886751345948128, 0, 0],\n",
              " [0.3333333333333333, 0.2886751345948129, 0.07453559924999295, 0],\n",
              " [0.25, 0.2598076211353317, 0.11180339887498895, 0.018898223650462943]]"
            ]
          },
          "metadata": {
            "tags": []
          },
          "execution_count": 72
        }
      ]
    },
    {
      "cell_type": "code",
      "metadata": {
        "id": "nSvWGaxle4A5"
      },
      "source": [
        ""
      ],
      "execution_count": null,
      "outputs": []
    }
  ]
}